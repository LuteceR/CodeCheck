{
 "cells": [
  {
   "cell_type": "code",
   "execution_count": 1,
   "metadata": {},
   "outputs": [],
   "source": [
    "from model import Model\n",
    "from tester import Problem, test"
   ]
  },
  {
   "cell_type": "code",
   "execution_count": 2,
   "metadata": {},
   "outputs": [
    {
     "name": "stderr",
     "output_type": "stream",
     "text": [
      "llama_init_from_model: n_ctx_per_seq (1024) < n_ctx_train (32768) -- the full capacity of the model will not be utilized\n"
     ]
    }
   ],
   "source": [
    "model = Model()"
   ]
  },
  {
   "cell_type": "code",
   "execution_count": 3,
   "metadata": {},
   "outputs": [],
   "source": [
    "problems = Problem.from_folder(\"DataSet/Tests\")\n",
    "melons = problems[\"melons\"]"
   ]
  },
  {
   "cell_type": "code",
   "execution_count": 4,
   "metadata": {},
   "outputs": [
    {
     "name": "stdout",
     "output_type": "stream",
     "text": [
      "Для решения этой задачи, мы будем использовать алгоритм сортировки, чтобы найти самый большой и самый спелый арбуз. Затем, мы будем проверять, можно ли поделить его на две части, каждая из которых весит четное число килограмм. Если можно, мы выведем YES, иначе выведем NO.\n",
      "\n",
      "Вот Python код, который реализует это алгоритм:\n",
      "\n",
      "```python\n",
      "def can_split_berries(w):\n",
      "    # Сортируем числа в порядке возрастания\n",
      "    numbers = sorted([w])\n",
      "    \n",
      "    # Проверяем, можно ли разделить арбуз на две части\n",
      "    if numbers[0] % 2 == 0 and numbers[1] % 2 == 0:\n",
      "        return \"YES\"\n",
      "    else:\n",
      "        return \"NO\"\n",
      "\n",
      "# Вводные данные\n",
      "w = int(input())\n",
      "\n",
      "# Выходные данные\n",
      "result = can_split_berries(w)\n",
      "print(result)\n",
      "```\n",
      "\n",
      "### Пример входных данных:\n",
      "```\n",
      "100\n",
      "```\n",
      "\n",
      "### Пример выходных данных:\n",
      "```\n",
      "YES\n",
      "```\n",
      "\n",
      "### Объяснение:\n",
      "1. **Сортировка**: Мы сначала сортируем числа в порядке возрастания. Это позволяет нам легко найти самый большой и самый спелый арбуз.\n",
      "2. **Проверка четности**: Мы проверяем, можно ли разделить арбуз на две части, каждая из которых весит четное число килограмм. Если это возможно, мы выводим \"YES\". Если нет, мы выводим \"NO\".\n"
     ]
    }
   ],
   "source": [
    "code = model.create_solution(melons.text)"
   ]
  },
  {
   "cell_type": "code",
   "execution_count": 7,
   "metadata": {},
   "outputs": [
    {
     "name": "stderr",
     "output_type": "stream",
     "text": [
      "\u001b[32m2025-03-24 22:03:00.319\u001b[0m | \u001b[31m\u001b[1mERROR   \u001b[0m | \u001b[36mtester\u001b[0m:\u001b[36mtest\u001b[0m:\u001b[36m87\u001b[0m - \u001b[31m\u001b[1mTest #0 failed expected='NO' got=''\u001b[0m\n",
      "\u001b[32m2025-03-24 22:03:00.331\u001b[0m | \u001b[31m\u001b[1mERROR   \u001b[0m | \u001b[36mtester\u001b[0m:\u001b[36mtest\u001b[0m:\u001b[36m87\u001b[0m - \u001b[31m\u001b[1mTest #1 failed expected='NO' got=''\u001b[0m\n"
     ]
    },
    {
     "name": "stderr",
     "output_type": "stream",
     "text": [
      "\u001b[32m2025-03-24 22:03:00.350\u001b[0m | \u001b[31m\u001b[1mERROR   \u001b[0m | \u001b[36mtester\u001b[0m:\u001b[36mtest\u001b[0m:\u001b[36m87\u001b[0m - \u001b[31m\u001b[1mTest #2 failed expected='NO' got=''\u001b[0m\n",
      "\u001b[32m2025-03-24 22:03:00.368\u001b[0m | \u001b[31m\u001b[1mERROR   \u001b[0m | \u001b[36mtester\u001b[0m:\u001b[36mtest\u001b[0m:\u001b[36m87\u001b[0m - \u001b[31m\u001b[1mTest #3 failed expected='YES' got=''\u001b[0m\n",
      "\u001b[32m2025-03-24 22:03:00.385\u001b[0m | \u001b[31m\u001b[1mERROR   \u001b[0m | \u001b[36mtester\u001b[0m:\u001b[36mtest\u001b[0m:\u001b[36m87\u001b[0m - \u001b[31m\u001b[1mTest #4 failed expected='NO' got=''\u001b[0m\n",
      "\u001b[32m2025-03-24 22:03:00.400\u001b[0m | \u001b[31m\u001b[1mERROR   \u001b[0m | \u001b[36mtester\u001b[0m:\u001b[36mtest\u001b[0m:\u001b[36m87\u001b[0m - \u001b[31m\u001b[1mTest #5 failed expected='YES' got=''\u001b[0m\n",
      "\u001b[32m2025-03-24 22:03:00.401\u001b[0m | \u001b[1mINFO    \u001b[0m | \u001b[36mtester\u001b[0m:\u001b[36mtest\u001b[0m:\u001b[36m88\u001b[0m - \u001b[1mPassed 0/6 tests\u001b[0m\n"
     ]
    }
   ],
   "source": [
    "test(code, melons)"
   ]
  },
  {
   "cell_type": "code",
   "execution_count": null,
   "metadata": {},
   "outputs": [],
   "source": []
  }
 ],
 "metadata": {
  "kernelspec": {
   "display_name": "codecheck-yYgao8ou-py3.12",
   "language": "python",
   "name": "python3"
  },
  "language_info": {
   "codemirror_mode": {
    "name": "ipython",
    "version": 3
   },
   "file_extension": ".py",
   "mimetype": "text/x-python",
   "name": "python",
   "nbconvert_exporter": "python",
   "pygments_lexer": "ipython3",
   "version": "3.12.3"
  }
 },
 "nbformat": 4,
 "nbformat_minor": 2
}
